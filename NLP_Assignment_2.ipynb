{
 "cells": [
  {
   "cell_type": "code",
   "execution_count": 1,
   "metadata": {},
   "outputs": [
    {
     "name": "stderr",
     "output_type": "stream",
     "text": [
      "[nltk_data] Downloading package punkt to\n",
      "[nltk_data]     C:\\Users\\surya\\AppData\\Roaming\\nltk_data...\n",
      "[nltk_data]   Package punkt is already up-to-date!\n",
      "[nltk_data] Downloading package stopwords to\n",
      "[nltk_data]     C:\\Users\\surya\\AppData\\Roaming\\nltk_data...\n",
      "[nltk_data]   Package stopwords is already up-to-date!\n"
     ]
    },
    {
     "data": {
      "text/plain": [
       "True"
      ]
     },
     "execution_count": 1,
     "metadata": {},
     "output_type": "execute_result"
    }
   ],
   "source": [
    "import pandas as pd\n",
    "import numpy as np\n",
    "import nltk\n",
    "nltk.download('punkt')\n",
    "nltk.download('stopwords')"
   ]
  },
  {
   "cell_type": "code",
   "execution_count": 2,
   "metadata": {},
   "outputs": [
    {
     "data": {
      "text/html": [
       "<div>\n",
       "<style scoped>\n",
       "    .dataframe tbody tr th:only-of-type {\n",
       "        vertical-align: middle;\n",
       "    }\n",
       "\n",
       "    .dataframe tbody tr th {\n",
       "        vertical-align: top;\n",
       "    }\n",
       "\n",
       "    .dataframe thead th {\n",
       "        text-align: right;\n",
       "    }\n",
       "</style>\n",
       "<table border=\"1\" class=\"dataframe\">\n",
       "  <thead>\n",
       "    <tr style=\"text-align: right;\">\n",
       "      <th></th>\n",
       "      <th>review</th>\n",
       "      <th>sentiment</th>\n",
       "    </tr>\n",
       "  </thead>\n",
       "  <tbody>\n",
       "    <tr>\n",
       "      <th>0</th>\n",
       "      <td>One of the other reviewers has mentioned that ...</td>\n",
       "      <td>positive</td>\n",
       "    </tr>\n",
       "    <tr>\n",
       "      <th>1</th>\n",
       "      <td>A wonderful little production. &lt;br /&gt;&lt;br /&gt;The...</td>\n",
       "      <td>positive</td>\n",
       "    </tr>\n",
       "    <tr>\n",
       "      <th>2</th>\n",
       "      <td>I thought this was a wonderful way to spend ti...</td>\n",
       "      <td>positive</td>\n",
       "    </tr>\n",
       "    <tr>\n",
       "      <th>3</th>\n",
       "      <td>Basically there's a family where a little boy ...</td>\n",
       "      <td>negative</td>\n",
       "    </tr>\n",
       "    <tr>\n",
       "      <th>4</th>\n",
       "      <td>Petter Mattei's \"Love in the Time of Money\" is...</td>\n",
       "      <td>positive</td>\n",
       "    </tr>\n",
       "  </tbody>\n",
       "</table>\n",
       "</div>"
      ],
      "text/plain": [
       "                                              review sentiment\n",
       "0  One of the other reviewers has mentioned that ...  positive\n",
       "1  A wonderful little production. <br /><br />The...  positive\n",
       "2  I thought this was a wonderful way to spend ti...  positive\n",
       "3  Basically there's a family where a little boy ...  negative\n",
       "4  Petter Mattei's \"Love in the Time of Money\" is...  positive"
      ]
     },
     "execution_count": 2,
     "metadata": {},
     "output_type": "execute_result"
    }
   ],
   "source": [
    "data=pd.read_csv(r\"C:\\Users\\surya\\Desktop\\CDAC Noida\\Datasets\\IMDB Dataset.csv\")\n",
    "data.head()"
   ]
  },
  {
   "cell_type": "code",
   "execution_count": 3,
   "metadata": {},
   "outputs": [],
   "source": [
    "p = data[data['sentiment']=='positive']\n",
    "n = data[data['sentiment']=='negative']"
   ]
  },
  {
   "cell_type": "code",
   "execution_count": 4,
   "metadata": {},
   "outputs": [
    {
     "name": "stdout",
     "output_type": "stream",
     "text": [
      "(25000, 2) (25000, 2)\n"
     ]
    }
   ],
   "source": [
    "print(p.shape,n.shape)"
   ]
  },
  {
   "cell_type": "code",
   "execution_count": 5,
   "metadata": {},
   "outputs": [
    {
     "name": "stdout",
     "output_type": "stream",
     "text": [
      "(4000, 2) (4000, 2)\n"
     ]
    }
   ],
   "source": [
    "p=p.iloc[:4000]\n",
    "n=n.iloc[:4000]\n",
    "print(p.shape,n.shape)"
   ]
  },
  {
   "cell_type": "code",
   "execution_count": 6,
   "metadata": {},
   "outputs": [],
   "source": [
    "d=[p,n]"
   ]
  },
  {
   "cell_type": "code",
   "execution_count": 7,
   "metadata": {},
   "outputs": [
    {
     "data": {
      "text/html": [
       "<div>\n",
       "<style scoped>\n",
       "    .dataframe tbody tr th:only-of-type {\n",
       "        vertical-align: middle;\n",
       "    }\n",
       "\n",
       "    .dataframe tbody tr th {\n",
       "        vertical-align: top;\n",
       "    }\n",
       "\n",
       "    .dataframe thead th {\n",
       "        text-align: right;\n",
       "    }\n",
       "</style>\n",
       "<table border=\"1\" class=\"dataframe\">\n",
       "  <thead>\n",
       "    <tr style=\"text-align: right;\">\n",
       "      <th></th>\n",
       "      <th>review</th>\n",
       "      <th>sentiment</th>\n",
       "    </tr>\n",
       "  </thead>\n",
       "  <tbody>\n",
       "    <tr>\n",
       "      <th>0</th>\n",
       "      <td>One of the other reviewers has mentioned that ...</td>\n",
       "      <td>positive</td>\n",
       "    </tr>\n",
       "    <tr>\n",
       "      <th>1</th>\n",
       "      <td>A wonderful little production. &lt;br /&gt;&lt;br /&gt;The...</td>\n",
       "      <td>positive</td>\n",
       "    </tr>\n",
       "    <tr>\n",
       "      <th>2</th>\n",
       "      <td>I thought this was a wonderful way to spend ti...</td>\n",
       "      <td>positive</td>\n",
       "    </tr>\n",
       "    <tr>\n",
       "      <th>4</th>\n",
       "      <td>Petter Mattei's \"Love in the Time of Money\" is...</td>\n",
       "      <td>positive</td>\n",
       "    </tr>\n",
       "    <tr>\n",
       "      <th>5</th>\n",
       "      <td>Probably my all-time favorite movie, a story o...</td>\n",
       "      <td>positive</td>\n",
       "    </tr>\n",
       "  </tbody>\n",
       "</table>\n",
       "</div>"
      ],
      "text/plain": [
       "                                              review sentiment\n",
       "0  One of the other reviewers has mentioned that ...  positive\n",
       "1  A wonderful little production. <br /><br />The...  positive\n",
       "2  I thought this was a wonderful way to spend ti...  positive\n",
       "4  Petter Mattei's \"Love in the Time of Money\" is...  positive\n",
       "5  Probably my all-time favorite movie, a story o...  positive"
      ]
     },
     "execution_count": 7,
     "metadata": {},
     "output_type": "execute_result"
    }
   ],
   "source": [
    "data=pd.concat(d)\n",
    "data.head()"
   ]
  },
  {
   "cell_type": "code",
   "execution_count": 8,
   "metadata": {},
   "outputs": [
    {
     "data": {
      "text/plain": [
       "(8000, 2)"
      ]
     },
     "execution_count": 8,
     "metadata": {},
     "output_type": "execute_result"
    }
   ],
   "source": [
    "data.shape"
   ]
  },
  {
   "cell_type": "code",
   "execution_count": 9,
   "metadata": {},
   "outputs": [],
   "source": [
    "import random\n",
    "data = data.sample(frac = 1)"
   ]
  },
  {
   "cell_type": "code",
   "execution_count": 10,
   "metadata": {},
   "outputs": [
    {
     "data": {
      "text/html": [
       "<div>\n",
       "<style scoped>\n",
       "    .dataframe tbody tr th:only-of-type {\n",
       "        vertical-align: middle;\n",
       "    }\n",
       "\n",
       "    .dataframe tbody tr th {\n",
       "        vertical-align: top;\n",
       "    }\n",
       "\n",
       "    .dataframe thead th {\n",
       "        text-align: right;\n",
       "    }\n",
       "</style>\n",
       "<table border=\"1\" class=\"dataframe\">\n",
       "  <thead>\n",
       "    <tr style=\"text-align: right;\">\n",
       "      <th></th>\n",
       "      <th>review</th>\n",
       "      <th>sentiment</th>\n",
       "    </tr>\n",
       "  </thead>\n",
       "  <tbody>\n",
       "    <tr>\n",
       "      <th>6722</th>\n",
       "      <td>Making the film as dark and visually fuzzy as ...</td>\n",
       "      <td>negative</td>\n",
       "    </tr>\n",
       "    <tr>\n",
       "      <th>1657</th>\n",
       "      <td>Soul Calibur has always been my favorite fight...</td>\n",
       "      <td>positive</td>\n",
       "    </tr>\n",
       "    <tr>\n",
       "      <th>3494</th>\n",
       "      <td>Feroz Abbas Khan's Gandhi My Father, a film th...</td>\n",
       "      <td>positive</td>\n",
       "    </tr>\n",
       "    <tr>\n",
       "      <th>3187</th>\n",
       "      <td>This picture's following will only grow as tim...</td>\n",
       "      <td>positive</td>\n",
       "    </tr>\n",
       "    <tr>\n",
       "      <th>3970</th>\n",
       "      <td>I have never commented on a film before. I wat...</td>\n",
       "      <td>positive</td>\n",
       "    </tr>\n",
       "    <tr>\n",
       "      <th>4087</th>\n",
       "      <td>Such a delightful movie! Very heart warming. O...</td>\n",
       "      <td>positive</td>\n",
       "    </tr>\n",
       "    <tr>\n",
       "      <th>1556</th>\n",
       "      <td>A comedy that worked surprisingly well was the...</td>\n",
       "      <td>positive</td>\n",
       "    </tr>\n",
       "    <tr>\n",
       "      <th>6958</th>\n",
       "      <td>Although I bought the DVD when it first came o...</td>\n",
       "      <td>positive</td>\n",
       "    </tr>\n",
       "    <tr>\n",
       "      <th>6227</th>\n",
       "      <td>&lt;br /&gt;&lt;br /&gt;This movie sucked! The first one w...</td>\n",
       "      <td>negative</td>\n",
       "    </tr>\n",
       "    <tr>\n",
       "      <th>6883</th>\n",
       "      <td>Well, it wasn't a complete waste. Armand was a...</td>\n",
       "      <td>negative</td>\n",
       "    </tr>\n",
       "    <tr>\n",
       "      <th>6222</th>\n",
       "      <td>While I rather enjoyed this movie, I'll tell y...</td>\n",
       "      <td>positive</td>\n",
       "    </tr>\n",
       "    <tr>\n",
       "      <th>1533</th>\n",
       "      <td>I would reccomend this film to everyone. Not o...</td>\n",
       "      <td>positive</td>\n",
       "    </tr>\n",
       "    <tr>\n",
       "      <th>7977</th>\n",
       "      <td>I found 'Shuttle' an incredibly frustrating fi...</td>\n",
       "      <td>negative</td>\n",
       "    </tr>\n",
       "    <tr>\n",
       "      <th>1845</th>\n",
       "      <td>As someone who has read the book, I can say th...</td>\n",
       "      <td>negative</td>\n",
       "    </tr>\n",
       "    <tr>\n",
       "      <th>7879</th>\n",
       "      <td>I'm a fan of both actors/singers especially Ga...</td>\n",
       "      <td>positive</td>\n",
       "    </tr>\n",
       "  </tbody>\n",
       "</table>\n",
       "</div>"
      ],
      "text/plain": [
       "                                                 review sentiment\n",
       "6722  Making the film as dark and visually fuzzy as ...  negative\n",
       "1657  Soul Calibur has always been my favorite fight...  positive\n",
       "3494  Feroz Abbas Khan's Gandhi My Father, a film th...  positive\n",
       "3187  This picture's following will only grow as tim...  positive\n",
       "3970  I have never commented on a film before. I wat...  positive\n",
       "4087  Such a delightful movie! Very heart warming. O...  positive\n",
       "1556  A comedy that worked surprisingly well was the...  positive\n",
       "6958  Although I bought the DVD when it first came o...  positive\n",
       "6227  <br /><br />This movie sucked! The first one w...  negative\n",
       "6883  Well, it wasn't a complete waste. Armand was a...  negative\n",
       "6222  While I rather enjoyed this movie, I'll tell y...  positive\n",
       "1533  I would reccomend this film to everyone. Not o...  positive\n",
       "7977  I found 'Shuttle' an incredibly frustrating fi...  negative\n",
       "1845  As someone who has read the book, I can say th...  negative\n",
       "7879  I'm a fan of both actors/singers especially Ga...  positive"
      ]
     },
     "execution_count": 10,
     "metadata": {},
     "output_type": "execute_result"
    }
   ],
   "source": [
    "data.head(15)"
   ]
  },
  {
   "cell_type": "code",
   "execution_count": 16,
   "metadata": {},
   "outputs": [],
   "source": [
    "def to_words(x,y):\n",
    "    \n",
    "    words = []\n",
    "\n",
    "    for i,j in zip(x,y):\n",
    "        word = nltk.word_tokenize(i)\n",
    "        words.append((word, j)) \n",
    "    return words"
   ]
  },
  {
   "cell_type": "code",
   "execution_count": 38,
   "metadata": {},
   "outputs": [
    {
     "data": {
      "text/plain": [
       "(['Such',\n",
       "  'a',\n",
       "  'delightful',\n",
       "  'movie',\n",
       "  '!',\n",
       "  'Very',\n",
       "  'heart',\n",
       "  'warming',\n",
       "  '.',\n",
       "  'One',\n",
       "  'ca',\n",
       "  \"n't\",\n",
       "  'help',\n",
       "  'falling',\n",
       "  'in',\n",
       "  'love',\n",
       "  'with',\n",
       "  'the',\n",
       "  'character',\n",
       "  'of',\n",
       "  'Gigi',\n",
       "  '.',\n",
       "  'He',\n",
       "  \"'s\",\n",
       "  'adorable',\n",
       "  'as',\n",
       "  'a',\n",
       "  'child',\n",
       "  'and',\n",
       "  'grows',\n",
       "  'into',\n",
       "  'a',\n",
       "  'sensitive',\n",
       "  'artist',\n",
       "  '.',\n",
       "  'The',\n",
       "  'whole',\n",
       "  'movie',\n",
       "  'revolves',\n",
       "  'around',\n",
       "  'him',\n",
       "  '.',\n",
       "  'He',\n",
       "  'lives',\n",
       "  'in',\n",
       "  'a',\n",
       "  'wonderful',\n",
       "  'world',\n",
       "  '\\x96',\n",
       "  'living',\n",
       "  'all',\n",
       "  'life',\n",
       "  '\\x96',\n",
       "  'curiosity',\n",
       "  ',',\n",
       "  'desire',\n",
       "  'and',\n",
       "  'anticipation',\n",
       "  '.',\n",
       "  'There',\n",
       "  'is',\n",
       "  'an',\n",
       "  'elder',\n",
       "  'brother',\n",
       "  'who',\n",
       "  'tries',\n",
       "  'to',\n",
       "  'steal',\n",
       "  'his',\n",
       "  'glory',\n",
       "  'but',\n",
       "  'really',\n",
       "  'remains',\n",
       "  'in',\n",
       "  'the',\n",
       "  'shadow',\n",
       "  'all',\n",
       "  'his',\n",
       "  'life',\n",
       "  '.',\n",
       "  'The',\n",
       "  'father',\n",
       "  'is',\n",
       "  'very',\n",
       "  'stereotypically',\n",
       "  'Italian',\n",
       "  'and',\n",
       "  'so',\n",
       "  'is',\n",
       "  'the',\n",
       "  'mother',\n",
       "  '.',\n",
       "  'I',\n",
       "  'wanted',\n",
       "  'the',\n",
       "  'father',\n",
       "  'to',\n",
       "  'come',\n",
       "  'and',\n",
       "  'reunite',\n",
       "  'with',\n",
       "  'the',\n",
       "  'mother',\n",
       "  'in',\n",
       "  'the',\n",
       "  'last',\n",
       "  'scene',\n",
       "  '\\x96',\n",
       "  'and',\n",
       "  'have',\n",
       "  'them',\n",
       "  'cry',\n",
       "  'and',\n",
       "  'laugh',\n",
       "  '.',\n",
       "  'I',\n",
       "  'also',\n",
       "  'wish',\n",
       "  'that',\n",
       "  'there',\n",
       "  'was',\n",
       "  'at',\n",
       "  'least',\n",
       "  'something',\n",
       "  'redeeming',\n",
       "  'about',\n",
       "  'the',\n",
       "  'elder',\n",
       "  'brother',\n",
       "  '.',\n",
       "  'His',\n",
       "  'personality',\n",
       "  'seems',\n",
       "  'to',\n",
       "  'have',\n",
       "  'been',\n",
       "  'trashed',\n",
       "  'entirely',\n",
       "  '.',\n",
       "  'Passion',\n",
       "  'and',\n",
       "  'ardour',\n",
       "  '\\x96',\n",
       "  'that',\n",
       "  \"'s\",\n",
       "  'the',\n",
       "  'key',\n",
       "  'to',\n",
       "  'life',\n",
       "  '.',\n",
       "  'And',\n",
       "  'looking',\n",
       "  'through',\n",
       "  'the',\n",
       "  'camera',\n",
       "  '\\x96',\n",
       "  'focusing',\n",
       "  'on',\n",
       "  'small',\n",
       "  'details',\n",
       "  'and',\n",
       "  'savoring',\n",
       "  'the',\n",
       "  'delicate',\n",
       "  'details',\n",
       "  'of',\n",
       "  'life',\n",
       "  '.'],\n",
       " 'positive')"
      ]
     },
     "execution_count": 38,
     "metadata": {},
     "output_type": "execute_result"
    }
   ],
   "source": [
    "words_rev=to_words(data.review,data.sentiment)\n",
    "words_rev[5]"
   ]
  },
  {
   "cell_type": "code",
   "execution_count": 39,
   "metadata": {},
   "outputs": [
    {
     "data": {
      "text/plain": [
       "8000"
      ]
     },
     "execution_count": 39,
     "metadata": {},
     "output_type": "execute_result"
    }
   ],
   "source": [
    "len(words_rev)"
   ]
  },
  {
   "cell_type": "code",
   "execution_count": 28,
   "metadata": {},
   "outputs": [],
   "source": [
    "words = []\n",
    "for i in data['review']:\n",
    "        for a in (nltk.word_tokenize(i)):\n",
    "            words.append(a.lower())"
   ]
  },
  {
   "cell_type": "code",
   "execution_count": 29,
   "metadata": {},
   "outputs": [],
   "source": [
    "import string\n",
    "from nltk.corpus import stopwords\n",
    "english_Stopwords = stopwords.words('english')"
   ]
  },
  {
   "cell_type": "code",
   "execution_count": 30,
   "metadata": {},
   "outputs": [
    {
     "data": {
      "text/plain": [
       "['making',\n",
       " 'film',\n",
       " 'dark',\n",
       " 'visually',\n",
       " 'fuzzy',\n",
       " 'possible',\n",
       " 'order',\n",
       " 'cover',\n",
       " 'budget',\n",
       " 'deficiencies',\n",
       " 'often-used',\n",
       " 'strategy',\n",
       " 'low-budget',\n",
       " 'horror',\n",
       " 'films']"
      ]
     },
     "execution_count": 30,
     "metadata": {},
     "output_type": "execute_result"
    }
   ],
   "source": [
    "imp_words = []\n",
    "for word in words:\n",
    "    if word not in english_Stopwords and word not in string.punctuation:\n",
    "        imp_words.append(word)\n",
    "\n",
    "imp_words[:15]"
   ]
  },
  {
   "cell_type": "code",
   "execution_count": 32,
   "metadata": {},
   "outputs": [],
   "source": [
    "from nltk import FreqDist\n",
    "freq = FreqDist(imp_words)"
   ]
  },
  {
   "cell_type": "code",
   "execution_count": 33,
   "metadata": {},
   "outputs": [],
   "source": [
    "most_common = freq.most_common(4000)\n",
    "word_features = [i[0] for i in most_common]"
   ]
  },
  {
   "cell_type": "code",
   "execution_count": 34,
   "metadata": {},
   "outputs": [],
   "source": [
    "def feature(document):\n",
    "    doc = set(document)\n",
    "    \n",
    "    feature = {}\n",
    "    \n",
    "    for word in word_features:\n",
    "        feature['contains(%s)' % word] = (word in doc)\n",
    "        \n",
    "    return feature"
   ]
  },
  {
   "cell_type": "code",
   "execution_count": 41,
   "metadata": {},
   "outputs": [],
   "source": [
    "feature_set = [(feature(doc), category) for (doc, category) in words_rev]"
   ]
  },
  {
   "cell_type": "code",
   "execution_count": 42,
   "metadata": {},
   "outputs": [],
   "source": [
    "train = feature_set[:4001]\n",
    "test = feature_set[4001:]"
   ]
  },
  {
   "cell_type": "code",
   "execution_count": 43,
   "metadata": {},
   "outputs": [],
   "source": [
    "from nltk import NaiveBayesClassifier\n",
    "classifier = NaiveBayesClassifier.train(train)"
   ]
  },
  {
   "cell_type": "code",
   "execution_count": 44,
   "metadata": {},
   "outputs": [
    {
     "name": "stdout",
     "output_type": "stream",
     "text": [
      "0.8424606151537885\n"
     ]
    }
   ],
   "source": [
    "from nltk import classify \n",
    "accuracy = classify.accuracy(classifier, test)\n",
    "print (accuracy) "
   ]
  },
  {
   "cell_type": "code",
   "execution_count": null,
   "metadata": {},
   "outputs": [],
   "source": []
  }
 ],
 "metadata": {
  "kernelspec": {
   "display_name": "Python 3",
   "language": "python",
   "name": "python3"
  },
  "language_info": {
   "codemirror_mode": {
    "name": "ipython",
    "version": 3
   },
   "file_extension": ".py",
   "mimetype": "text/x-python",
   "name": "python",
   "nbconvert_exporter": "python",
   "pygments_lexer": "ipython3",
   "version": "3.8.3"
  }
 },
 "nbformat": 4,
 "nbformat_minor": 4
}
